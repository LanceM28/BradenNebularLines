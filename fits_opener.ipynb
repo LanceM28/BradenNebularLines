{
 "cells": [
  {
   "cell_type": "markdown",
   "metadata": {},
   "source": [
    "# Fits opener\n",
    "\n",
    "Takes fits files and opens them, need to add functionality to allow for wavelength extraction"
   ]
  },
  {
   "cell_type": "code",
   "execution_count": 2,
   "metadata": {},
   "outputs": [
    {
     "name": "stdout",
     "output_type": "stream",
     "text": [
      "WAVELENGTH      DLDS         R     \n",
      " MICRONS   MICRONS/PIXEL RESOLUTION\n",
      "---------- ------------- ----------\n",
      "       2.5  0.0018000052   631.3113\n",
      "    2.5035  0.0017999988   632.1974\n",
      "     2.507  0.0017999924   633.0835\n",
      "    2.5105  0.0017999859   633.9696\n",
      "     2.514  0.0017999794   634.8558\n",
      "    2.5175  0.0017999728  635.74194\n",
      "     2.521  0.0017999663   636.6281\n",
      "    2.5245  0.0017999597   637.5143\n",
      "     2.528   0.001799953  638.40045\n",
      "    2.5315  0.0017999464   639.2867\n",
      "       ...           ...        ...\n",
      "    5.9685  0.0017830919  1521.4889\n",
      "     5.972  0.0017830636  1522.4053\n",
      "    5.9755  0.0017830353  1523.3217\n",
      "     5.979   0.001783007   1524.238\n",
      "    5.9825  0.0017829788  1525.1545\n",
      "     5.986  0.0017829504   1526.071\n",
      "    5.9895  0.0017829221  1526.9877\n",
      "     5.993  0.0017828937  1527.9043\n",
      "    5.9965  0.0017828651   1528.821\n",
      "       6.0  0.0017828367  1529.7378\n",
      "Length = 1001 rows\n"
     ]
    }
   ],
   "source": [
    "import numpy as np\n",
    "from astropy.table import Table\n",
    "\n",
    "df = Table.read('/Users/lamoreau/Downloads/jwst_nirspec_g395m_disp.fits')\n",
    "\n",
    "print(df)\n"
   ]
  },
  {
   "cell_type": "code",
   "execution_count": null,
   "metadata": {},
   "outputs": [],
   "source": []
  }
 ],
 "metadata": {
  "kernelspec": {
   "display_name": "base",
   "language": "python",
   "name": "python3"
  },
  "language_info": {
   "codemirror_mode": {
    "name": "ipython",
    "version": 3
   },
   "file_extension": ".py",
   "mimetype": "text/x-python",
   "name": "python",
   "nbconvert_exporter": "python",
   "pygments_lexer": "ipython3",
   "version": "3.10.9"
  }
 },
 "nbformat": 4,
 "nbformat_minor": 2
}
